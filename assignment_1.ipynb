{
  "nbformat": 4,
  "nbformat_minor": 0,
  "metadata": {
    "colab": {
      "provenance": [],
      "authorship_tag": "ABX9TyP9cqASRn6/7U5V/b9deiHV",
      "include_colab_link": true
    },
    "kernelspec": {
      "name": "python3",
      "display_name": "Python 3"
    },
    "language_info": {
      "name": "python"
    }
  },
  "cells": [
    {
      "cell_type": "markdown",
      "metadata": {
        "id": "view-in-github",
        "colab_type": "text"
      },
      "source": [
        "<a href=\"https://colab.research.google.com/github/PRIYA-7814/Assignment-Python/blob/main/assignment_1.ipynb\" target=\"_parent\"><img src=\"https://colab.research.google.com/assets/colab-badge.svg\" alt=\"Open In Colab\"/></a>"
      ]
    },
    {
      "cell_type": "markdown",
      "source": [
        "Q1.LIST OPERATIONS (i-xii)\n"
      ],
      "metadata": {
        "id": "D30WoPDC3W-w"
      }
    },
    {
      "cell_type": "markdown",
      "source": [],
      "metadata": {
        "id": "_3bwRU3I3Rda"
      }
    },
    {
      "cell_type": "code",
      "source": [
        "L = [11,12,13,14]\n",
        "#(i)\n",
        "L.extend([50,60])\n",
        "print(\"After adding:\",L)\n",
        "\n",
        "#(ii)\n",
        "L.remove(11)\n",
        "L.remove(13)\n",
        "print(\"After removing 11,13\",L)\n",
        "\n",
        "#(iii)\n",
        "print(\"Sorted ascending:\",sorted(L))\n",
        "\n",
        "#(iv)\n",
        "print(\"Sorted descending,sorted\",sorted(L,reverse=True))\n",
        "\n",
        "#(v)\n",
        "print(\"is 13 in L\",13 in L)\n",
        "\n",
        "#(vi)\n",
        "print(\"Length of L:\",len(L))\n",
        "\n",
        "#(vii)\n",
        "print(\"Sum of L:\",sum(L))\n",
        "\n",
        "#(viii)\n",
        "print(\"Sum of odd numbers:\",sum(i for i in L if i % 2!=0 ))\n",
        "\n",
        "#(ix)\n",
        "print(\"Sum of even numbers:\",sum(i for i in L if i % 2 == 0))\n",
        "\n",
        "#(x)\n",
        "def is_prime(n):\n",
        "  return n>1 and all(n % i !=0 for i in range(2,\n",
        "  int(n**0.5)+1))\n",
        "  print(\"Sum of prime numbers:\",sum(i for i in L if is_prime(i)))\n",
        "\n",
        "#(xi)\n",
        "L.clear()\n",
        "print(\"After clearing L:\",L)\n",
        "\n",
        "#(xii)\n",
        "del L"
      ],
      "metadata": {
        "colab": {
          "base_uri": "https://localhost:8080/"
        },
        "id": "VkBUZ2_r4WcP",
        "outputId": "4ed4243b-9a28-4fd6-90ed-e26c52aa42b5"
      },
      "execution_count": null,
      "outputs": [
        {
          "output_type": "stream",
          "name": "stdout",
          "text": [
            "After adding: [11, 12, 13, 14, 50, 60]\n",
            "After removing 11,13 [12, 14, 50, 60]\n",
            "Sorted ascending: [12, 14, 50, 60]\n",
            "Sorted descending,sorted [60, 50, 14, 12]\n",
            "is 13 in L False\n",
            "Length of L: 4\n",
            "Sum of L: 136\n",
            "Sum of odd numbers: 0\n",
            "Sum of even numbers: 136\n",
            "After clearing L: []\n"
          ]
        }
      ]
    },
    {
      "cell_type": "markdown",
      "source": [],
      "metadata": {
        "id": "k_asUkKR7B2G"
      }
    },
    {
      "cell_type": "markdown",
      "source": [
        "Q2.DICTIONARY OPERATION (i-vii)\n"
      ],
      "metadata": {
        "id": "4LfwMGlMDbIz"
      }
    },
    {
      "cell_type": "code",
      "source": [
        "D = {1:5.6,2:7.8,3:6.6,4:8.7,5:7.7}\n",
        "\n",
        "#(i)\n",
        "D[8]=8.8\n",
        "print(D)\n",
        "\n",
        "#(ii)\n",
        "D.pop(2,None)\n",
        "print(D)\n",
        "\n",
        "#(iii)\n",
        "print(\"is key 6 present?\",6 in D)\n",
        "\n",
        "\n",
        "#(iv)\n",
        "print(\"number of element:\",len(D))\n",
        "\n",
        "#(v)\n",
        "print(\"sum of values:\",sum(D.values()))\n",
        "\n",
        "#(vi)\n",
        "D[3]=7.1\n",
        "print(D)\n",
        "\n",
        "#(vii)\n",
        "D.clear()"
      ],
      "metadata": {
        "colab": {
          "base_uri": "https://localhost:8080/"
        },
        "id": "NNABrlAEDtyo",
        "outputId": "63f88781-d9a2-4bc0-bef3-d89100293ae0"
      },
      "execution_count": null,
      "outputs": [
        {
          "output_type": "stream",
          "name": "stdout",
          "text": [
            "{1: 5.6, 2: 7.8, 3: 6.6, 4: 8.7, 5: 7.7, 8: 8.8}\n",
            "{1: 5.6, 3: 6.6, 4: 8.7, 5: 7.7, 8: 8.8}\n",
            "is key 6 present? False\n",
            "number of element: 5\n",
            "sum of values: 37.4\n",
            "{1: 5.6, 3: 7.1, 4: 8.7, 5: 7.7, 8: 8.8}\n"
          ]
        }
      ]
    },
    {
      "cell_type": "markdown",
      "source": [
        "Q3. Set operations (i-vi)"
      ],
      "metadata": {
        "id": "JcalSTxxG0xc"
      }
    },
    {
      "cell_type": "code",
      "source": [
        "s1={10,20,30,40,50,60}\n",
        "s2={40,50,60,70,80,90}\n",
        "\n",
        "#(i)\n",
        "s1.update([55,66])\n",
        "\n",
        "#(ii)\n",
        "s1.discard(10)\n",
        "s1.discard(30)\n",
        "\n",
        "#(iii)\n",
        "print(\"is 40 in s1?\", 40 in s1)\n",
        "\n",
        "#(iv)\n",
        "print(\"Union\",s1.union(s2))\n",
        "\n",
        "\n",
        "\n",
        "#(v)\n",
        "print(\"Intersection:\",s1.intersection(s2))\n",
        "\n",
        "#(vi)\n",
        "print(\"s1-s2:\",s1.difference(s2))"
      ],
      "metadata": {
        "colab": {
          "base_uri": "https://localhost:8080/"
        },
        "id": "_hb_QovKG_C5",
        "outputId": "e9d11e5c-f97e-4068-e74b-e9e383510202"
      },
      "execution_count": null,
      "outputs": [
        {
          "output_type": "stream",
          "name": "stdout",
          "text": [
            "is 40 in s1? True\n",
            "Union {66, 70, 40, 80, 50, 20, 55, 90, 60}\n",
            "Intersection: {40, 50, 60}\n",
            "s1-s2: {66, 20, 55}\n"
          ]
        }
      ]
    },
    {
      "cell_type": "markdown",
      "source": [
        "Q4. write the following programs (i-iii)"
      ],
      "metadata": {
        "id": "oryAnuwsKfhl"
      }
    },
    {
      "cell_type": "code",
      "source": [
        "import random\n",
        "import string\n",
        "\n",
        "#(i)\n",
        "for _ in range (100):\n",
        "  print(\".join(random.choices(string.ascii_letters,k=random.randit(6,8)))\")\n",
        "\n",
        "#(ii)\n",
        "for num in range (600,800):\n",
        "  if is_prime(num):\n",
        "    print (num)\n",
        "\n",
        "#(iii)\n",
        "for num in range(100,1001):\n",
        "  if num % 7 == 0 and num % 9 == 0:\n",
        "    print(num)"
      ],
      "metadata": {
        "colab": {
          "base_uri": "https://localhost:8080/"
        },
        "id": "yyh1ZiEUKyc4",
        "outputId": "afb519bf-3166-4645-e07b-b3fa1524a7c2"
      },
      "execution_count": null,
      "outputs": [
        {
          "output_type": "stream",
          "name": "stdout",
          "text": [
            ".join(random.choices(string.ascii_letters,k=random.randit(6,8)))\n",
            ".join(random.choices(string.ascii_letters,k=random.randit(6,8)))\n",
            ".join(random.choices(string.ascii_letters,k=random.randit(6,8)))\n",
            ".join(random.choices(string.ascii_letters,k=random.randit(6,8)))\n",
            ".join(random.choices(string.ascii_letters,k=random.randit(6,8)))\n",
            ".join(random.choices(string.ascii_letters,k=random.randit(6,8)))\n",
            ".join(random.choices(string.ascii_letters,k=random.randit(6,8)))\n",
            ".join(random.choices(string.ascii_letters,k=random.randit(6,8)))\n",
            ".join(random.choices(string.ascii_letters,k=random.randit(6,8)))\n",
            ".join(random.choices(string.ascii_letters,k=random.randit(6,8)))\n",
            ".join(random.choices(string.ascii_letters,k=random.randit(6,8)))\n",
            ".join(random.choices(string.ascii_letters,k=random.randit(6,8)))\n",
            ".join(random.choices(string.ascii_letters,k=random.randit(6,8)))\n",
            ".join(random.choices(string.ascii_letters,k=random.randit(6,8)))\n",
            ".join(random.choices(string.ascii_letters,k=random.randit(6,8)))\n",
            ".join(random.choices(string.ascii_letters,k=random.randit(6,8)))\n",
            ".join(random.choices(string.ascii_letters,k=random.randit(6,8)))\n",
            ".join(random.choices(string.ascii_letters,k=random.randit(6,8)))\n",
            ".join(random.choices(string.ascii_letters,k=random.randit(6,8)))\n",
            ".join(random.choices(string.ascii_letters,k=random.randit(6,8)))\n",
            ".join(random.choices(string.ascii_letters,k=random.randit(6,8)))\n",
            ".join(random.choices(string.ascii_letters,k=random.randit(6,8)))\n",
            ".join(random.choices(string.ascii_letters,k=random.randit(6,8)))\n",
            ".join(random.choices(string.ascii_letters,k=random.randit(6,8)))\n",
            ".join(random.choices(string.ascii_letters,k=random.randit(6,8)))\n",
            ".join(random.choices(string.ascii_letters,k=random.randit(6,8)))\n",
            ".join(random.choices(string.ascii_letters,k=random.randit(6,8)))\n",
            ".join(random.choices(string.ascii_letters,k=random.randit(6,8)))\n",
            ".join(random.choices(string.ascii_letters,k=random.randit(6,8)))\n",
            ".join(random.choices(string.ascii_letters,k=random.randit(6,8)))\n",
            ".join(random.choices(string.ascii_letters,k=random.randit(6,8)))\n",
            ".join(random.choices(string.ascii_letters,k=random.randit(6,8)))\n",
            ".join(random.choices(string.ascii_letters,k=random.randit(6,8)))\n",
            ".join(random.choices(string.ascii_letters,k=random.randit(6,8)))\n",
            ".join(random.choices(string.ascii_letters,k=random.randit(6,8)))\n",
            ".join(random.choices(string.ascii_letters,k=random.randit(6,8)))\n",
            ".join(random.choices(string.ascii_letters,k=random.randit(6,8)))\n",
            ".join(random.choices(string.ascii_letters,k=random.randit(6,8)))\n",
            ".join(random.choices(string.ascii_letters,k=random.randit(6,8)))\n",
            ".join(random.choices(string.ascii_letters,k=random.randit(6,8)))\n",
            ".join(random.choices(string.ascii_letters,k=random.randit(6,8)))\n",
            ".join(random.choices(string.ascii_letters,k=random.randit(6,8)))\n",
            ".join(random.choices(string.ascii_letters,k=random.randit(6,8)))\n",
            ".join(random.choices(string.ascii_letters,k=random.randit(6,8)))\n",
            ".join(random.choices(string.ascii_letters,k=random.randit(6,8)))\n",
            ".join(random.choices(string.ascii_letters,k=random.randit(6,8)))\n",
            ".join(random.choices(string.ascii_letters,k=random.randit(6,8)))\n",
            ".join(random.choices(string.ascii_letters,k=random.randit(6,8)))\n",
            ".join(random.choices(string.ascii_letters,k=random.randit(6,8)))\n",
            ".join(random.choices(string.ascii_letters,k=random.randit(6,8)))\n",
            ".join(random.choices(string.ascii_letters,k=random.randit(6,8)))\n",
            ".join(random.choices(string.ascii_letters,k=random.randit(6,8)))\n",
            ".join(random.choices(string.ascii_letters,k=random.randit(6,8)))\n",
            ".join(random.choices(string.ascii_letters,k=random.randit(6,8)))\n",
            ".join(random.choices(string.ascii_letters,k=random.randit(6,8)))\n",
            ".join(random.choices(string.ascii_letters,k=random.randit(6,8)))\n",
            ".join(random.choices(string.ascii_letters,k=random.randit(6,8)))\n",
            ".join(random.choices(string.ascii_letters,k=random.randit(6,8)))\n",
            ".join(random.choices(string.ascii_letters,k=random.randit(6,8)))\n",
            ".join(random.choices(string.ascii_letters,k=random.randit(6,8)))\n",
            ".join(random.choices(string.ascii_letters,k=random.randit(6,8)))\n",
            ".join(random.choices(string.ascii_letters,k=random.randit(6,8)))\n",
            ".join(random.choices(string.ascii_letters,k=random.randit(6,8)))\n",
            ".join(random.choices(string.ascii_letters,k=random.randit(6,8)))\n",
            ".join(random.choices(string.ascii_letters,k=random.randit(6,8)))\n",
            ".join(random.choices(string.ascii_letters,k=random.randit(6,8)))\n",
            ".join(random.choices(string.ascii_letters,k=random.randit(6,8)))\n",
            ".join(random.choices(string.ascii_letters,k=random.randit(6,8)))\n",
            ".join(random.choices(string.ascii_letters,k=random.randit(6,8)))\n",
            ".join(random.choices(string.ascii_letters,k=random.randit(6,8)))\n",
            ".join(random.choices(string.ascii_letters,k=random.randit(6,8)))\n",
            ".join(random.choices(string.ascii_letters,k=random.randit(6,8)))\n",
            ".join(random.choices(string.ascii_letters,k=random.randit(6,8)))\n",
            ".join(random.choices(string.ascii_letters,k=random.randit(6,8)))\n",
            ".join(random.choices(string.ascii_letters,k=random.randit(6,8)))\n",
            ".join(random.choices(string.ascii_letters,k=random.randit(6,8)))\n",
            ".join(random.choices(string.ascii_letters,k=random.randit(6,8)))\n",
            ".join(random.choices(string.ascii_letters,k=random.randit(6,8)))\n",
            ".join(random.choices(string.ascii_letters,k=random.randit(6,8)))\n",
            ".join(random.choices(string.ascii_letters,k=random.randit(6,8)))\n",
            ".join(random.choices(string.ascii_letters,k=random.randit(6,8)))\n",
            ".join(random.choices(string.ascii_letters,k=random.randit(6,8)))\n",
            ".join(random.choices(string.ascii_letters,k=random.randit(6,8)))\n",
            ".join(random.choices(string.ascii_letters,k=random.randit(6,8)))\n",
            ".join(random.choices(string.ascii_letters,k=random.randit(6,8)))\n",
            ".join(random.choices(string.ascii_letters,k=random.randit(6,8)))\n",
            ".join(random.choices(string.ascii_letters,k=random.randit(6,8)))\n",
            ".join(random.choices(string.ascii_letters,k=random.randit(6,8)))\n",
            ".join(random.choices(string.ascii_letters,k=random.randit(6,8)))\n",
            ".join(random.choices(string.ascii_letters,k=random.randit(6,8)))\n",
            ".join(random.choices(string.ascii_letters,k=random.randit(6,8)))\n",
            ".join(random.choices(string.ascii_letters,k=random.randit(6,8)))\n",
            ".join(random.choices(string.ascii_letters,k=random.randit(6,8)))\n",
            ".join(random.choices(string.ascii_letters,k=random.randit(6,8)))\n",
            ".join(random.choices(string.ascii_letters,k=random.randit(6,8)))\n",
            ".join(random.choices(string.ascii_letters,k=random.randit(6,8)))\n",
            ".join(random.choices(string.ascii_letters,k=random.randit(6,8)))\n",
            ".join(random.choices(string.ascii_letters,k=random.randit(6,8)))\n",
            ".join(random.choices(string.ascii_letters,k=random.randit(6,8)))\n",
            ".join(random.choices(string.ascii_letters,k=random.randit(6,8)))\n",
            "601\n",
            "607\n",
            "613\n",
            "617\n",
            "619\n",
            "631\n",
            "641\n",
            "643\n",
            "647\n",
            "653\n",
            "659\n",
            "661\n",
            "673\n",
            "677\n",
            "683\n",
            "691\n",
            "701\n",
            "709\n",
            "719\n",
            "727\n",
            "733\n",
            "739\n",
            "743\n",
            "751\n",
            "757\n",
            "761\n",
            "769\n",
            "773\n",
            "787\n",
            "797\n",
            "126\n",
            "189\n",
            "252\n",
            "315\n",
            "378\n",
            "441\n",
            "504\n",
            "567\n",
            "630\n",
            "693\n",
            "756\n",
            "819\n",
            "882\n",
            "945\n"
          ]
        }
      ]
    },
    {
      "cell_type": "markdown",
      "source": [
        "Q5.wap to create 2 list of 10 random numbers between 10 and 30 :find (i-v)"
      ],
      "metadata": {
        "id": "x0VSjKapN4K3"
      }
    },
    {
      "cell_type": "code",
      "source": [
        "list1 =[random.randint(10,30)for _ in range(10) ]\n",
        "list2 =[random.randint(10,30)for _ in range(10)]\n",
        "\n",
        "print(\"Common:\", set(list1) & set(list2))\n",
        "print(\"Uunique:\",set(list1)^ set(list2))\n",
        "print(\"Min1:\",min(list1),\"Min2\",min(list2))\n",
        "print(\"Max1:\",max(list1),\"Max2\",max(list2))\n",
        "print(\"Sum1:\",sum(list1),\"Sum2\",sum(list2))\n"
      ],
      "metadata": {
        "colab": {
          "base_uri": "https://localhost:8080/"
        },
        "id": "38xWOfooOX7i",
        "outputId": "4db9eec4-2ab3-42e8-ceb4-23f0a38c7b29"
      },
      "execution_count": null,
      "outputs": [
        {
          "output_type": "stream",
          "name": "stdout",
          "text": [
            "Common: {10, 17, 19, 20, 30}\n",
            "Uunique: {11, 13, 15, 18, 21, 22, 23, 25, 27}\n",
            "Min1: 10 Min2 10\n",
            "Max1: 30 Max2 30\n",
            "Sum1: 214 Sum2 183\n"
          ]
        }
      ]
    },
    {
      "cell_type": "markdown",
      "source": [
        "Q6.wap to create list of 100 random numbers between 100 to 900.(i-iii)\n"
      ],
      "metadata": {
        "id": "tgz8kUOHTbw8"
      }
    },
    {
      "cell_type": "code",
      "source": [
        "nums=[random.randint(100,900)for _ in range(100)]\n",
        "\n",
        "print(\"odd numbers:\",[n for n in nums if n % 2!=0])\n",
        "print(\"even numbers:\",[n for n in nums if n % 2 == 0])\n",
        "print(\"prime numbers:\",[n for n in nums if is_prime(n)])"
      ],
      "metadata": {
        "colab": {
          "base_uri": "https://localhost:8080/"
        },
        "id": "Yqj6bu65Ty4K",
        "outputId": "c204a6cd-e226-4fae-a25b-24bbc63943a5"
      },
      "execution_count": null,
      "outputs": [
        {
          "output_type": "stream",
          "name": "stdout",
          "text": [
            "odd numbers: [667, 359, 443, 235, 111, 523, 465, 311, 735, 285, 857, 235, 229, 233, 471, 513, 677, 167, 421, 555, 451, 539, 879, 775, 829, 135, 631, 543, 361, 893, 421, 867, 399, 681, 145, 103, 515, 119, 359, 463, 627, 491, 885, 307, 649, 583, 345, 397]\n",
            "even numbers: [562, 256, 216, 702, 616, 372, 446, 274, 246, 680, 208, 788, 694, 244, 136, 822, 682, 272, 528, 126, 120, 268, 672, 830, 620, 366, 246, 512, 252, 556, 494, 548, 530, 166, 728, 434, 306, 558, 586, 768, 832, 598, 626, 186, 778, 302, 324, 170, 156, 578, 852, 456]\n",
            "prime numbers: [359, 443, 523, 311, 857, 229, 233, 677, 167, 421, 829, 631, 421, 103, 359, 463, 491, 307, 397]\n"
          ]
        }
      ]
    },
    {
      "cell_type": "markdown",
      "source": [
        "Q7. write dictionary to file"
      ],
      "metadata": {
        "id": "FFamnkIiVBVL"
      }
    },
    {
      "cell_type": "code",
      "source": [
        "D = {1:\"one\",2:\"two\",3:\"three\",4:\"four\",5:\"five\"}\n",
        "with open(\"dict_output.txt\",\"w\")as f:\n",
        "  for k,v in D.items():\n",
        "    f.write(f\"{k}, {v}\\n\")"
      ],
      "metadata": {
        "id": "xfkHub5mU2WL"
      },
      "execution_count": null,
      "outputs": []
    },
    {
      "cell_type": "markdown",
      "source": [
        "Q8. list word len to file"
      ],
      "metadata": {
        "id": "wQyQvurBWAdI"
      }
    },
    {
      "cell_type": "code",
      "source": [
        "l=[\"one\",\"two\",\"three\",\"four\",\"five\"]\n",
        "with open(\"list_lengths.txt\",\"w\") as f:\n",
        "  for word in l:\n",
        "    f.write(f\"{word},{len(word)}\\n\")"
      ],
      "metadata": {
        "id": "5SSYEp6RWH_-"
      },
      "execution_count": null,
      "outputs": []
    },
    {
      "cell_type": "markdown",
      "source": [
        "Q9. 100 random strings to file"
      ],
      "metadata": {
        "id": "7hsD7zY_W6lt"
      }
    },
    {
      "cell_type": "code",
      "source": [
        "with open(\"random_strings.txt\",\"w\")as f:\n",
        "  for _ in range(100):\n",
        "    s = \".join(random.choices(string.ascii_letters, k=random.randint(10,15)))\"\n",
        "    f.write(s+'\\n')"
      ],
      "metadata": {
        "id": "CRSeVB5WXBsS"
      },
      "execution_count": null,
      "outputs": []
    },
    {
      "cell_type": "markdown",
      "source": [
        "Q10. prime numbers to file"
      ],
      "metadata": {
        "id": "-zcgbK7ZZSV1"
      }
    },
    {
      "cell_type": "code",
      "source": [
        "with open(\"prime_600_800.txt\",\"w\")as f:\n",
        "  for num in range(600,801):\n",
        "    if is_prime(num):\n",
        "      f.write(str(num)+'\\n')"
      ],
      "metadata": {
        "id": "4iObKf2mZYsb"
      },
      "execution_count": null,
      "outputs": []
    },
    {
      "cell_type": "markdown",
      "source": [
        "Q11. time taken by program"
      ],
      "metadata": {
        "id": "htIYWqbAZ7xS"
      }
    },
    {
      "cell_type": "code",
      "source": [
        "import time\n",
        "start = time.time()\n",
        "sum(range(100000))\n",
        "end = time.time()\n",
        "print(\"Time taken:\",end - start)"
      ],
      "metadata": {
        "colab": {
          "base_uri": "https://localhost:8080/"
        },
        "id": "FPI08BamaHfh",
        "outputId": "07ec6c95-21e7-404a-f602-fe671081361d"
      },
      "execution_count": null,
      "outputs": [
        {
          "output_type": "stream",
          "name": "stdout",
          "text": [
            "Time taken: 0.0035550594329833984\n"
          ]
        }
      ]
    },
    {
      "cell_type": "markdown",
      "source": [
        "Q12. sort time graph"
      ],
      "metadata": {
        "id": "cMBnkIhHagcb"
      }
    },
    {
      "cell_type": "code",
      "source": [
        "import seaborn as sns\n",
        "sns.set()\n",
        "\n",
        "plt.bar([str(s) for s in sizes], time_taken,\n",
        "        color='skyblue')\n",
        "plt.xlabel(\"number of elements\")\n",
        "plt.ylabel(\"time (seconds)\")\n",
        "plt.title(\"time taken for sorting different list sizes\")\n",
        "plt.show()"
      ],
      "metadata": {
        "colab": {
          "base_uri": "https://localhost:8080/",
          "height": 480
        },
        "id": "SEPHJGFsalUp",
        "outputId": "e2aa5c93-0d24-4dc2-b309-6af5eb990a3c"
      },
      "execution_count": null,
      "outputs": [
        {
          "output_type": "display_data",
          "data": {
            "text/plain": [
              "<Figure size 640x480 with 1 Axes>"
            ],
            "image/png": "[encoded data removed]"
          },
          "metadata": {}
        }
      ]
    },
    {
      "cell_type": "markdown",
      "source": [
        "Q13. student marks dictionary"
      ],
      "metadata": {
        "id": "ancASF9ohuPV"
      }
    },
    {
      "cell_type": "code",
      "source": [
        "students = {\n",
        "    \"A\":[87,90,78,88,92],\n",
        "    \"B\":[70,65,80,75,68],\n",
        "    \"C\":[95,92,88,91,94],\n",
        "}\n",
        "average = {k:sum(v)/len(v) for k, v in\n",
        "students.items() }\n",
        "max_student= max(average,key=average.get)\n",
        "min_student= min(average,key=average.get)\n",
        "\n",
        "print(\"max Avg:\",max_student,\n",
        "average[max_student])\n",
        "print(\"min Avg:\",min_student,average[min_student])"
      ],
      "metadata": {
        "colab": {
          "base_uri": "https://localhost:8080/"
        },
        "id": "oCve24lWh63C",
        "outputId": "49e87e20-92bc-42ce-ba4a-24c32cf14084"
      },
      "execution_count": null,
      "outputs": [
        {
          "output_type": "stream",
          "name": "stdout",
          "text": [
            "max Avg: C 92.0\n",
            "min Avg: B 71.6\n"
          ]
        }
      ]
    }
  ]
}