{
  "nbformat": 4,
  "nbformat_minor": 0,
  "metadata": {
    "colab": {
      "provenance": [],
      "authorship_tag": "ABX9TyM5mp0fty8I6r+Hlp9dBmRb",
      "include_colab_link": true
    },
    "kernelspec": {
      "name": "python3",
      "display_name": "Python 3"
    },
    "language_info": {
      "name": "python"
    }
  },
  "cells": [
    {
      "cell_type": "markdown",
      "metadata": {
        "id": "view-in-github",
        "colab_type": "text"
      },
      "source": [
        "<a href=\"https://colab.research.google.com/github/PRIYA-7814/Assignment-Python/blob/main/assignment_3_day_2.ipynb\" target=\"_parent\"><img src=\"https://colab.research.google.com/assets/colab-badge.svg\" alt=\"Open In Colab\"/></a>"
      ]
    },
    {
      "cell_type": "markdown",
      "source": [
        "subset selection problem"
      ],
      "metadata": {
        "id": "DwQh8a3LvBf_"
      }
    },
    {
      "cell_type": "code",
      "execution_count": null,
      "metadata": {
        "id": "lCGuvDcbZQ3h"
      },
      "outputs": [],
      "source": [
        "### 🔁 Randomized Approach Based on Flowchart\n"
      ]
    },
    {
      "cell_type": "code",
      "source": [
        "import random\n",
        "\n",
        "# Step 1: Define the data and storage\n",
        "data = [-12, -3, -6, 7, 2, -2, 6, 3, 9, -7, -5, -8, 1, 11, -9, -4]\n",
        "result = []\n",
        "seen_subsets = set()\n",
        "\n",
        "# Step 2: Repeat process with termination condition\n",
        "attempts = 100000\n",
        "for _ in range(attempts):\n",
        "    # Step 2.1: Select a random subset of size 5\n",
        "    subset = tuple(sorted(random.sample(data, 5)))\n",
        "\n",
        "    # Step 2.2: Calculate sum of selected subset\n",
        "    if sum(subset) == 0 and subset not in seen_subsets:\n",
        "        result.append(subset)\n",
        "        seen_subsets.add(subset)\n",
        "\n",
        "# Step 3: Output the result\n",
        "print(\"Subsets of size 5 with sum 0:\")\n",
        "for s in result:\n",
        "    print(s)\n",
        "\n"
      ],
      "metadata": {
        "colab": {
          "base_uri": "https://localhost:8080/"
        },
        "id": "jHetgPlgeGR5",
        "outputId": "884550a4-e9a7-447b-fa23-b5f5c5c753ba"
      },
      "execution_count": null,
      "outputs": [
        {
          "output_type": "stream",
          "name": "stdout",
          "text": [
            "Subsets of size 5 with sum 0:\n",
            "(-9, -4, -2, 6, 9)\n",
            "(-7, -4, 2, 3, 6)\n",
            "(-8, -3, 1, 3, 7)\n",
            "(-8, -6, -2, 7, 9)\n",
            "(-8, -4, 1, 2, 9)\n",
            "(-9, -6, 2, 6, 7)\n",
            "(-8, -2, 1, 2, 7)\n",
            "(-12, -4, 2, 3, 11)\n",
            "(-9, -4, 1, 3, 9)\n",
            "(-9, -6, -5, 9, 11)\n",
            "(-8, -2, 1, 3, 6)\n",
            "(-4, -3, -2, 2, 7)\n",
            "(-8, -6, 1, 6, 7)\n",
            "(-12, -4, 1, 6, 9)\n",
            "(-7, -4, -2, 2, 11)\n",
            "(-6, -5, -2, 2, 11)\n",
            "(-9, -7, -2, 7, 11)\n",
            "(-12, -3, 1, 3, 11)\n",
            "(-8, -6, -4, 7, 11)\n",
            "(-12, -7, 1, 7, 11)\n",
            "(-9, -2, 2, 3, 6)\n",
            "(-8, -7, 2, 6, 7)\n",
            "(-8, -3, -2, 2, 11)\n",
            "(-12, -5, 1, 7, 9)\n",
            "(-9, -8, 1, 7, 9)\n",
            "(-6, -4, 1, 3, 6)\n",
            "(-12, -9, 1, 9, 11)\n",
            "(-12, -8, 3, 6, 11)\n",
            "(-7, -4, 1, 3, 7)\n",
            "(-8, -7, 1, 3, 11)\n",
            "(-7, -6, -4, 6, 11)\n",
            "(-9, -7, 3, 6, 7)\n",
            "(-9, -6, -3, 7, 11)\n",
            "(-8, -5, -2, 6, 9)\n",
            "(-8, -4, -3, 6, 9)\n",
            "(-9, -2, 1, 3, 7)\n",
            "(-9, -7, -4, 9, 11)\n",
            "(-6, -3, -2, 2, 9)\n",
            "(-7, -5, -3, 6, 9)\n",
            "(-7, -5, 2, 3, 7)\n",
            "(-5, -4, -2, 2, 9)\n",
            "(-9, -3, 1, 2, 9)\n",
            "(-9, -5, -4, 7, 11)\n",
            "(-12, -6, -2, 9, 11)\n",
            "(-9, -7, 1, 6, 9)\n",
            "(-9, -5, 1, 2, 11)\n",
            "(-7, -5, -4, 7, 9)\n",
            "(-12, -5, 2, 6, 9)\n",
            "(-5, -3, -2, 1, 9)\n",
            "(-8, -6, 2, 3, 9)\n",
            "(-12, -7, 3, 7, 9)\n",
            "(-9, -8, 2, 6, 9)\n",
            "(-9, -5, -3, 6, 11)\n",
            "(-7, -5, -2, 3, 11)\n",
            "(-7, -6, -2, 6, 9)\n",
            "(-4, -2, 1, 2, 3)\n",
            "(-8, -7, -5, 9, 11)\n",
            "(-7, -6, -5, 7, 11)\n",
            "(-9, -3, -2, 3, 11)\n",
            "(-12, -3, 2, 6, 7)\n",
            "(-5, -4, -3, 3, 9)\n",
            "(-12, -9, 3, 7, 11)\n",
            "(-9, -5, 2, 3, 9)\n",
            "(-9, -8, -3, 9, 11)\n",
            "(-12, -7, 2, 6, 11)\n",
            "(-8, -5, -3, 7, 9)\n",
            "(-4, -3, -2, 3, 6)\n",
            "(-8, -6, -3, 6, 11)\n",
            "(-8, -4, -2, 3, 11)\n",
            "(-9, -6, -2, 6, 11)\n",
            "(-6, -5, 2, 3, 6)\n",
            "(-7, -3, -2, 1, 11)\n",
            "(-7, -3, 1, 2, 7)\n",
            "(-7, -6, 1, 3, 9)\n",
            "(-12, -4, 3, 6, 7)\n",
            "(-12, 1, 2, 3, 6)\n",
            "(-7, -4, -3, 3, 11)\n",
            "(-12, -3, -2, 6, 11)\n",
            "(-7, -3, 1, 3, 6)\n",
            "(-9, -7, 2, 3, 11)\n",
            "(-12, -6, 1, 6, 11)\n",
            "(-6, -4, -2, 3, 9)\n",
            "(-9, -3, 2, 3, 7)\n",
            "(-6, -4, -2, 1, 11)\n",
            "(-9, -4, -3, 7, 9)\n",
            "(-6, -4, -3, 6, 7)\n",
            "(-6, -4, -3, 2, 11)\n",
            "(-8, -6, 1, 2, 11)\n",
            "(-8, -4, 2, 3, 7)\n",
            "(-12, -6, 3, 6, 9)\n",
            "(-12, -4, -2, 7, 11)\n",
            "(-9, -6, 1, 3, 11)\n",
            "(-7, -4, -2, 6, 7)\n",
            "(-5, -4, 1, 2, 6)\n",
            "(-12, -5, -3, 9, 11)\n",
            "(-6, -5, -4, 6, 9)\n",
            "(-8, -3, 2, 3, 6)\n",
            "(-5, -4, -3, 1, 11)\n",
            "(-8, -5, 1, 3, 9)\n",
            "(-6, -4, 1, 2, 7)\n",
            "(-9, -5, 1, 6, 7)\n",
            "(-7, -6, -3, 7, 9)\n",
            "(-6, -3, 1, 2, 6)\n",
            "(-5, -3, -2, 3, 7)\n",
            "(-12, -8, 2, 7, 11)\n",
            "(-9, -5, -2, 7, 9)\n",
            "(-12, -2, 1, 6, 7)\n",
            "(-6, -5, -2, 6, 7)\n",
            "(-12, -2, 1, 2, 11)\n",
            "(-7, -5, 1, 2, 9)\n",
            "(-8, -7, -3, 7, 11)\n",
            "(-12, -6, 2, 7, 9)\n",
            "(-6, -5, 1, 3, 7)\n",
            "(-7, -3, -2, 3, 9)\n",
            "(-8, -3, -2, 6, 7)\n",
            "(-8, -5, -4, 6, 11)\n",
            "(-8, -7, -2, 6, 11)\n",
            "(-7, -2, 1, 2, 6)\n",
            "(-12, -2, 2, 3, 9)\n",
            "(-6, -5, -3, 3, 11)\n"
          ]
        }
      ]
    },
    {
      "cell_type": "markdown",
      "source": [
        "### Step 2: Calculate sum of selected subset\n",
        "If the randomly selected 5-element subset has a sum of 0, it is stored in a result list.\n"
      ],
      "metadata": {
        "id": "db_UbA-JfQZc"
      }
    },
    {
      "cell_type": "code",
      "source": [
        "# Subsets of size 5 with sum 0:\n",
        "(-12, -3, 3, 7, 5)\n",
        "(-8, -2, -1, 4, 7)\n",
        "...\n"
      ],
      "metadata": {
        "colab": {
          "base_uri": "https://localhost:8080/"
        },
        "id": "QAcNCm1HfZ4-",
        "outputId": "8765368a-a965-4e12-852f-eb957131c98c"
      },
      "execution_count": null,
      "outputs": [
        {
          "output_type": "execute_result",
          "data": {
            "text/plain": [
              "Ellipsis"
            ]
          },
          "metadata": {},
          "execution_count": 6
        }
      ]
    }
  ]
}